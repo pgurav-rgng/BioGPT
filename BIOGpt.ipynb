{
  "nbformat": 4,
  "nbformat_minor": 0,
  "metadata": {
    "colab": {
      "provenance": [],
      "authorship_tag": "ABX9TyOBPFXFsVPtQtcIWZKmZI5x",
      "include_colab_link": true
    },
    "kernelspec": {
      "name": "python3",
      "display_name": "Python 3"
    },
    "language_info": {
      "name": "python"
    }
  },
  "cells": [
    {
      "cell_type": "markdown",
      "metadata": {
        "id": "view-in-github",
        "colab_type": "text"
      },
      "source": [
        "<a href=\"https://colab.research.google.com/github/pgurav-rgng/BioGPT/blob/main/BIOGpt.ipynb\" target=\"_parent\"><img src=\"https://colab.research.google.com/assets/colab-badge.svg\" alt=\"Open In Colab\"/></a>"
      ]
    },
    {
      "cell_type": "code",
      "source": [
        "!huggingface-cli login"
      ],
      "metadata": {
        "colab": {
          "base_uri": "https://localhost:8080/"
        },
        "id": "a6fmNveCibFf",
        "outputId": "cccb18c8-7133-4cb5-d4f1-57639f1b33c4"
      },
      "execution_count": 3,
      "outputs": [
        {
          "output_type": "stream",
          "name": "stdout",
          "text": [
            "\n",
            "    _|    _|  _|    _|    _|_|_|    _|_|_|  _|_|_|  _|      _|    _|_|_|      _|_|_|_|    _|_|      _|_|_|  _|_|_|_|\n",
            "    _|    _|  _|    _|  _|        _|          _|    _|_|    _|  _|            _|        _|    _|  _|        _|\n",
            "    _|_|_|_|  _|    _|  _|  _|_|  _|  _|_|    _|    _|  _|  _|  _|  _|_|      _|_|_|    _|_|_|_|  _|        _|_|_|\n",
            "    _|    _|  _|    _|  _|    _|  _|    _|    _|    _|    _|_|  _|    _|      _|        _|    _|  _|        _|\n",
            "    _|    _|    _|_|      _|_|_|    _|_|_|  _|_|_|  _|      _|    _|_|_|      _|        _|    _|    _|_|_|  _|_|_|_|\n",
            "\n",
            "    To login, `huggingface_hub` requires a token generated from https://huggingface.co/settings/tokens .\n",
            "Enter your token (input will not be visible): \n",
            "Add token as git credential? (Y/n) y\n",
            "Token is valid (permission: fineGrained).\n",
            "\u001b[1m\u001b[31mCannot authenticate through git-credential as no helper is defined on your machine.\n",
            "You might have to re-authenticate when pushing to the Hugging Face Hub.\n",
            "Run the following command in your terminal in case you want to set the 'store' credential helper as default.\n",
            "\n",
            "git config --global credential.helper store\n",
            "\n",
            "Read https://git-scm.com/book/en/v2/Git-Tools-Credential-Storage for more details.\u001b[0m\n",
            "Token has not been saved to git credential helper.\n",
            "Your token has been saved to /root/.cache/huggingface/token\n",
            "Login successful\n"
          ]
        }
      ]
    },
    {
      "cell_type": "code",
      "source": [
        "!pip install sacremoses"
      ],
      "metadata": {
        "colab": {
          "base_uri": "https://localhost:8080/"
        },
        "id": "T6Ga9H4RjsE3",
        "outputId": "099849c1-ea3a-42cd-d26c-7e7b3226a691"
      },
      "execution_count": 4,
      "outputs": [
        {
          "output_type": "stream",
          "name": "stdout",
          "text": [
            "Requirement already satisfied: sacremoses in /usr/local/lib/python3.10/dist-packages (0.1.1)\n",
            "Requirement already satisfied: regex in /usr/local/lib/python3.10/dist-packages (from sacremoses) (2024.9.11)\n",
            "Requirement already satisfied: click in /usr/local/lib/python3.10/dist-packages (from sacremoses) (8.1.7)\n",
            "Requirement already satisfied: joblib in /usr/local/lib/python3.10/dist-packages (from sacremoses) (1.4.2)\n",
            "Requirement already satisfied: tqdm in /usr/local/lib/python3.10/dist-packages (from sacremoses) (4.66.5)\n"
          ]
        }
      ]
    },
    {
      "cell_type": "code",
      "source": [
        "from transformers import AutoModelForCausalLM, AutoTokenizer\n",
        "\n",
        "# Load the official BioGPT model and tokenizer\n",
        "model_name = \"microsoft/biogpt\"\n",
        "model = AutoModelForCausalLM.from_pretrained(model_name)\n",
        "tokenizer = AutoTokenizer.from_pretrained(model_name)\n",
        "\n",
        "# Structured medical inquiry\n",
        "query = \"Question:What are the latest findings on the efficacy of combination therapies for non-small cell lung cancer (NSCLC) using immunotherapy and targeted therapy? Answer:\"\n",
        "\n",
        "# Tokenize and generate response with better sampling\n",
        "inputs = tokenizer(query, return_tensors=\"pt\")\n",
        "output = model.generate(**inputs, max_length=500, top_k=50, top_p=0.95)\n",
        "\n",
        "# Decode the response\n",
        "response = tokenizer.decode(output[0], skip_special_tokens=True)\n",
        "\n",
        "# Print the result\n",
        "print(f\"Query: {query}\\nResponse: {response}\")\n"
      ],
      "metadata": {
        "colab": {
          "base_uri": "https://localhost:8080/"
        },
        "id": "BxC0ZD3Mjzu3",
        "outputId": "36430eed-71a6-46c7-f45c-a0dd0ad98bea"
      },
      "execution_count": 7,
      "outputs": [
        {
          "output_type": "stream",
          "name": "stdout",
          "text": [
            "Query: Question:What are the latest findings on the efficacy of combination therapies for non-small cell lung cancer (NSCLC) using immunotherapy and targeted therapy? Answer:\n",
            "Response: Question: What are the latest findings on the efficacy of combination therapies for non-small cell lung cancer (NSCLC) using immunotherapy and targeted therapy? Answer: The combination of nivolumab and pembrolizumab has shown promising results in the treatment of NSCLC.\n"
          ]
        }
      ]
    },
    {
      "cell_type": "code",
      "source": [
        "# Structured medical inquiry\n",
        "query = \"Question:Summarize the molecular mechanisms and potential drug targets identified in recent studies for Alzheimer's disease progression? Answer:\"\n",
        "\n",
        "# Tokenize and generate response with better sampling\n",
        "inputs = tokenizer(query, return_tensors=\"pt\")\n",
        "output = model.generate(**inputs, max_length=500, top_k=50, top_p=0.95)\n",
        "\n",
        "# Decode the response\n",
        "response = tokenizer.decode(output[0], skip_special_tokens=True)\n",
        "\n",
        "# Print the result\n",
        "print(f\"Query: {query}\\nResponse: {response}\")"
      ],
      "metadata": {
        "colab": {
          "base_uri": "https://localhost:8080/"
        },
        "id": "-iSH7WWQ6cui",
        "outputId": "708843e5-fb95-4ae8-92e5-ac3ef37f2fad"
      },
      "execution_count": 8,
      "outputs": [
        {
          "output_type": "stream",
          "name": "stdout",
          "text": [
            "Query: Question:Summarize the molecular mechanisms and potential drug targets identified in recent studies for Alzheimer's disease progression? Answer:\n",
            "Response: Question: Summarize the molecular mechanisms and potential drug targets identified in recent studies for Alzheimer's disease progression? Answer: The role of the ubiquitin-proteasome system in Alzheimer's disease.\n"
          ]
        }
      ]
    },
    {
      "cell_type": "code",
      "source": [
        "# Structured medical inquiry\n",
        "query = \"Question:Explain the findings from recent systematic reviews on the long-term effects of CRISPR gene editing on off-target mutations in human cells? Answer:\"\n",
        "\n",
        "# Tokenize and generate response with better sampling\n",
        "inputs = tokenizer(query, return_tensors=\"pt\")\n",
        "output = model.generate(**inputs, max_length=500, top_k=50, top_p=0.95)\n",
        "\n",
        "# Decode the response\n",
        "response = tokenizer.decode(output[0], skip_special_tokens=True)\n",
        "\n",
        "# Print the result\n",
        "print(f\"Query: {query}\\nResponse: {response}\")"
      ],
      "metadata": {
        "colab": {
          "base_uri": "https://localhost:8080/"
        },
        "id": "cf9Wv7Jj7tZa",
        "outputId": "5cfebcd6-7992-4643-caf0-8b2b35ba03b5"
      },
      "execution_count": 9,
      "outputs": [
        {
          "output_type": "stream",
          "name": "stdout",
          "text": [
            "Query: Question:Explain the findings from recent systematic reviews on the long-term effects of CRISPR gene editing on off-target mutations in human cells? Answer:\n",
            "Response: Question: Explain the findings from recent systematic reviews on the long-term effects of CRISPR gene editing on off-target mutations in human cells? Answer: The CRISPR-Cas9 system is not a panacea for the treatment of human diseases.\n"
          ]
        }
      ]
    },
    {
      "cell_type": "code",
      "source": [
        "# Testing simpler prompts\n",
        "query = \"What are the findings from recent studies on off-target mutations caused by CRISPR in human cells?\"\n",
        "\n",
        "inputs = tokenizer(query, return_tensors=\"pt\")\n",
        "output = model.generate(\n",
        "    **inputs,\n",
        "    max_length=500,\n",
        "    top_k=50,\n",
        "    top_p=0.95,\n",
        "    temperature=1.2,\n",
        "    do_sample=True,\n",
        "    no_repeat_ngram_size=3\n",
        ")\n",
        "\n",
        "response = tokenizer.decode(output[0], skip_special_tokens=True)\n",
        "print(f\"Query: {query}\\nResponse: {response}\")\n"
      ],
      "metadata": {
        "colab": {
          "base_uri": "https://localhost:8080/"
        },
        "id": "anxfTmjr86gi",
        "outputId": "699ada83-2cbf-4eb4-e808-7ada38e677b6"
      },
      "execution_count": 12,
      "outputs": [
        {
          "output_type": "stream",
          "name": "stdout",
          "text": [
            "Query: What are the findings from recent studies on off-target mutations caused by CRISPR in human cells?\n",
            "Response: What are the findings from recent studies on off-target mutations caused by CRISPR in human cells?\n"
          ]
        }
      ]
    }
  ]
}